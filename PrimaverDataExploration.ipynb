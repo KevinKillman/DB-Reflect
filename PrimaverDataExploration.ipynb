{
 "cells": [
  {
   "cell_type": "code",
   "execution_count": 1,
   "metadata": {},
   "outputs": [],
   "source": [
    "import requests\n",
    "import os\n",
    "import pandas as pd\n",
    "import sqlalchemy as sql\n",
    "from sqlalchemy.ext.automap import automap_base\n",
    "from sqlalchemy.orm import Session\n",
    "from sqlalchemy import create_engine, inspect, func, MetaData\n",
    "import datetime as dt\n",
    "import pyodbc\n",
    "import produceQBD\n",
    "path = os.path.join(\"PPMDBSQLite.db\")\n",
    "engine = create_engine(\"sqlite+pysqlite:///\"+path)\n",
    "inspector = inspect(engine)\n",
    "Base = automap_base()\n",
    "Base.prepare(engine, reflect=True) \n",
    "session = Session(engine)\n"
   ]
  },
  {
   "cell_type": "code",
   "execution_count": 3,
   "metadata": {},
   "outputs": [],
   "source": [
    "nameType = {}\n",
    "for table in Base.classes.keys():\n",
    "    nameType[table] = {}\n",
    "    for col in inspector.get_columns(table):\n",
    "        typeT = col[\"type\"]\n",
    "        nameType[table][col[\"name\"]] = str(col[\"type\"])"
   ]
  },
  {
   "cell_type": "code",
   "execution_count": 4,
   "metadata": {},
   "outputs": [],
   "source": [
    "def primaveraColDataTypeConverter(colType:str) -> str: \n",
    "    finalString = \"\"\n",
    "    if \"TEXT\" in colType:\n",
    "        finalString = \"String\"\n",
    "    elif \"INTEGER\" in colType:\n",
    "        finalString = \"int\"\n",
    "    elif \"DATETIME\" in colType:\n",
    "        finalString = \"DateTime\"\n",
    "    elif \"BLOB\" in colType:\n",
    "        finalString = \"byte[]\"\n",
    "    elif \"decimal\" in colType.lower():\n",
    "        finalString = \"decimal\"\n",
    "    elif \"REAL\" in colType:\n",
    "        finalString = \"float\"\n",
    "    return finalString\n",
    "\n",
    "def getCharacterNumFromColType(colType:str) -> str: \n",
    "    split1 = colType.split(\"(\")[1]\n",
    "    numberOfCharacters = split1.split(\")\")[0]\n",
    "    return f\"{numberOfCharacters}\"\n",
    "    \n",
    "def buildClassString(tableName:str, colDict:dict) -> str: \n",
    "    resultString = \"\\t\" + \"public class \" + tableName+\"{\\n\\t\\t\"\n",
    "    resultString += buildColumnFields(colDict)\n",
    "    return resultString\n",
    "\n",
    "def buildColumnFields(colDict:dict) -> str: \n",
    "    result =\"\"\n",
    "    for colName,colType in colDict.items():\n",
    "        result += \"public \" + primaveraColDataTypeConverter(colType)+\" \"+colName + \" {get; set;}\\n\\t\\t\"\n",
    "    return result\n",
    "\n",
    "def buildDBContextBody(tableName:str) -> str:\n",
    "    return f\"public DbSet<{tableName}> {tableName} \" + \"{get; set;}\\n\\t\\t\"\n",
    "\n",
    "def addContextTail(contextStr:str, nameType:dict, Base, inspector) -> str:\n",
    "    result = contextStr + \"        protected override void OnModelCreating(ModelBuilder modelBuilder)\\n\\t\\t\\\n",
    "        {\\n\\t\\t\\t\\\n",
    "            base.OnModelCreating(modelBuilder);\\n\\t\\t\\t\"\n",
    "    for table in nameType.keys():\n",
    "        result += f\"modelBuild.Entity<{table}>.HasNoKey();\\n\\t\\t\\t\"\n",
    "    result += \"}}}\"\n",
    "    return result\n",
    "\n",
    "def writeFile(contents, filename):\n",
    "    f = open(filename, \"w\")\n",
    "    f.write(contents)\n",
    "    f.close()\n"
   ]
  },
  {
   "cell_type": "code",
   "execution_count": 5,
   "metadata": {},
   "outputs": [],
   "source": [
    "namespaceHead = \"using System;\\n\\\n",
    "using System.Collections.Generic;\\n\\\n",
    "using System.Linq;\\n\\\n",
    "using System.Threading.Tasks;\\n\\\n",
    "using System.ComponentModel.DataAnnotations;\\n\\\n",
    "using System.ComponentModel.DataAnnotations.Schema;\\n\\\n",
    "using Newtonsoft.Json;\\n\\\n",
    "\\n\\\n",
    "namespace UNKNOWNSPACE.Models\\n\\\n",
    "{\\n\"\n",
    "\n",
    "dbContextNamespaceHead = \"using Microsoft.EntityFrameworkCore;\\n\\\n",
    "using Microsoft.EntityFrameworkCore.Diagnostics;\\n\\\n",
    "\\n\\\n",
    "namespace UNKNOWNSPACE.Data\\n\\\n",
    "{\\n\\t\\\n",
    "    public class ApplicationDbContext\\n\\t\\\n",
    "    {\\n\\t\\t\\\n",
    "        public ApplicationDbContext(DbContextOptions<ApplicationDbContext> options)\\n\\t\\t\\t\\\n",
    "            : base(options)\\n\\t\\t\\\n",
    "        {\\n\\\n",
    "\\n\\t\\t\\\n",
    "        }\"\n",
    "result = {}\n",
    "result[\"dbContext\"] = f\"{dbContextNamespaceHead}\\n\\t\\t\"\n",
    "for (table, colDict) in nameType.items():\n",
    "    result[table] = {}\n",
    "    result[table] = namespaceHead+buildClassString(table,colDict)+\"}}\"\n",
    "    result[\"dbContext\"] +=  buildDBContextBody(table)\n",
    "result[\"dbContext\"] = result[\"dbContext\"][:-1]\n",
    "result[\"dbContext\"] = addContextTail(result[\"dbContext\"], nameType, Base, inspector)\n",
    "for k, v in result.items():\n",
    "    if k == \"dbContext\":\n",
    "        writeFile(v, \"Data/Context/dbContext.cs\")\n",
    "    else:\n",
    "        writeFile(v, f\"Data/Models/{k}.cs\")\n"
   ]
  },
  {
   "cell_type": "code",
   "execution_count": 14,
   "metadata": {},
   "outputs": [],
   "source": []
  },
  {
   "cell_type": "code",
   "execution_count": null,
   "metadata": {},
   "outputs": [],
   "source": []
  },
  {
   "cell_type": "code",
   "execution_count": 2,
   "metadata": {},
   "outputs": [],
   "source": [
    "produceQBD.main(\"sqlite+pysqlite:///\"+path, \"p6FromNB\", True)\n"
   ]
  },
  {
   "cell_type": "code",
   "execution_count": 59,
   "metadata": {},
   "outputs": [],
   "source": [
    "temp=[[{col:table} for col in inspector.get_pk_constraint(table)['constrained_columns']] for table in Base.classes.keys()]\n",
    "result = []\n",
    "for x in temp:\n",
    "    [result.append(y) for y in x]\n",
    "pks = {}\n",
    "for i in result:\n",
    "    for k,v in i.items():\n",
    "        pks[k] = v\n",
    "    "
   ]
  },
  {
   "cell_type": "code",
   "execution_count": 58,
   "metadata": {},
   "outputs": [],
   "source": [
    "pks = produceQBD.createPKTableNameDictionary(Base, inspector)\n",
    "fks = {}\n",
    "copy = {}\n",
    "for table in Base.classes.keys():\n",
    "    columns = inspector.get_columns(table)\n",
    "    for col in columns:\n",
    "        if \"_ID\" in col['name']:\n",
    "            if col['name'] in pks.keys():\n",
    "                try:\n",
    "                    fks[table].append( col['name'] +\" FK - \" + pks[col['name']]+f\".{col['name']}\")\n",
    "                    copy[table].append( col['name'] )\n",
    "                except:\n",
    "                    fks[table] = [col['name'] +\" FK - \" + pks[col['name']]+f\".{col['name']}\"]\n",
    "                    copy[table] = [col['name']]"
   ]
  },
  {
   "cell_type": "code",
   "execution_count": 57,
   "metadata": {},
   "outputs": [],
   "source": [
    "dbDesign = \"\"\n",
    "for tableName in Base.classes.keys():\n",
    "    dbDesign += tableName\n",
    "    dbDesign += \"\\n\\n---\\n\\n\"\n",
    "    pk = inspector.get_pk_constraint(tableName)['constrained_columns']\n",
    "    if tableName in fks.keys():\n",
    "        foreignKeyStrings = fks[tableName]\n",
    "        foreignKeyValues = [x.split(\" \")[0] for x in foreignKeyStrings]\n",
    "    else:\n",
    "        foreignKeyStrings = [\"\"]\n",
    "        foreignKeyValues=[\"\"]\n",
    "    for column in inspector.get_columns(tableName):\n",
    "        if column['name'] in pk:\n",
    "            dbDesign += column['name'] +\" PK\"\n",
    "        elif column['name'] in foreignKeyValues:\n",
    "            dbDesign += foreignKeyStrings[foreignKeyValues.index(column['name'])]\n",
    "        else:\n",
    "            dbDesign += column['name']\n",
    "        dbDesign+= \"\\n\\n\"\n",
    "    dbDesign+= \"\\n\\n\"\n",
    "\n",
    "\n",
    "            "
   ]
  },
  {
   "cell_type": "code",
   "execution_count": 71,
   "metadata": {},
   "outputs": [],
   "source": [
    "filename = \"testDynamicFK\"\n",
    "f = open(filename+ \".txt\", \"w\")\n",
    "f.write(dbDesign)\n",
    "f.close()"
   ]
  },
  {
   "cell_type": "code",
   "execution_count": 55,
   "metadata": {},
   "outputs": [],
   "source": [
    "projTable = Base.classes.PROJECT\n",
    "taskRsrcTable = Base.classes.TASKRSRC\n",
    "hrsID = session.query(projTable.PROJ_ID).filter(\"HRSA\" == projTable.PROJ_SHORT_NAME).first()\n",
    "a = session.query(func.sum(taskRsrcTable.TARGET_COST)).filter(taskRsrcTable.PROJ_ID == \"370\").all()\n"
   ]
  },
  {
   "cell_type": "code",
   "execution_count": null,
   "metadata": {},
   "outputs": [],
   "source": []
  }
 ],
 "metadata": {
  "kernelspec": {
   "display_name": "Python 3.7.6 ('base')",
   "language": "python",
   "name": "python3"
  },
  "language_info": {
   "codemirror_mode": {
    "name": "ipython",
    "version": 3
   },
   "file_extension": ".py",
   "mimetype": "text/x-python",
   "name": "python",
   "nbconvert_exporter": "python",
   "pygments_lexer": "ipython3",
   "version": "3.7.6"
  },
  "orig_nbformat": 4,
  "vscode": {
   "interpreter": {
    "hash": "3610fe8c176c0db67b90a566e30b80ae1a8ef6cd2b905bba0811a86aad572e28"
   }
  }
 },
 "nbformat": 4,
 "nbformat_minor": 2
}
